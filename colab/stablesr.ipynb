{
  "cells": [
    {
      "cell_type": "code",
      "execution_count": null,
      "metadata": {},
      "outputs": [],
      "source": [
        "#@markdown ## 구글드라이브 연동\n",
        "#@markdown **생성한 이미지를 구글드라이브에 자동저장하려면 체크해주세요**\n",
        "Google_Drive = False #@param {type:\"boolean\"}\n",
        "\n",
        "#@markdown -----\n",
        "#@markdown *아래는 설정할 필요 없어요*\n",
        "\n",
        "#@markdown **구글드라이브에 연결 폴더**\n",
        "Google_Drive_Dir = 'webui' #@param {type:\"string\"}\n",
        "\n",
        "#@markdown **폴더 설명** : 미리 만드셔도 되고 없으면 자동으로 생성해요\n",
        "#@markdown * webui/output : 생성된 이미지들이 저장되요\n",
        "\n",
        "#@markdown **Ngrok**\n",
        "Ngrok_Key = '' #@param {type:\"string\"}\n",
        "\n",
        "if Google_Drive:\n",
        "  from google.colab import drive\n",
        "  drive.mount('/content/drive')\n",
        "  !mkdir /content/drive/MyDrive/{Google_Drive_Dir}\n",
        "  !mkdir /content/drive/MyDrive/{Google_Drive_Dir}/output\n",
        "\n",
        "%cd /content\n",
        "\n",
        "!apt -y install -qq aria2\n",
        "!pip install torch==2.0.0+cu118 torchvision==0.15.1+cu118 --extra-index-url https://download.pytorch.org/whl/cu118\n",
        "!pip install xformers==0.0.20\n",
        "\n",
        "!git clone -b v1.5.0 https://github.com/neuralninja22/sd-webui /content/sdd-webui\n",
        "!aria2c --console-log-level=error -c -x 16 -s 16 -k 1M https://huggingface.co/embed/upscale/resolve/main/4x-UltraSharp.pth -d /content/sdd-webui/models/ESRGAN -o 4x-UltraSharp.pth\n",
        "%cd /content/sdd-webui\n",
        "!git reset --hard\n",
        "\n",
        "!wget https://raw.githubusercontent.com/ninjaneural/webui/master/misc/config_default.json -O /content/sdd-webui/config.json\n",
        "!wget https://raw.githubusercontent.com/ninjaneural/webui/master/misc/ui-config_stablesr.json -O /content/sdd-webui/ui-config.json\n",
        "!wget https://raw.githubusercontent.com/ninjaneural/webui/master/misc/install_stablesr.sh -O /content/sdd-webui/install_stablesr.sh\n",
        "!bash /content/sdd-webui/install_stablesr.sh\n",
        "\n",
        "# 구글드라이브 연결\n",
        "if Google_Drive:\n",
        "  !rm /content/sdd-webui/outputs\n",
        "  !mv /content/sdd-webui/outputs /content/sdd-webui/outputs_backup\n",
        "  !ln -s /content/drive/MyDrive/{Google_Drive_Dir}/output /content/sdd-webui/outputs\n",
        "else:\n",
        "  !rm /content/sdd-webui/outputs\n",
        "\n",
        "if Ngrok_Key:\n",
        "  !python launch.py --xformers --no-half-vae --theme dark --ngrok {Ngrok_Key}\n",
        "else:\n",
        "  !python launch.py --share --xformers --no-half-vae --enable-insecure-extension-access --theme dark --gradio-queue\n"
      ]
    }
  ],
  "metadata": {
    "accelerator": "GPU",
    "colab": {
      "collapsed_sections": [],
      "private_outputs": true,
      "provenance": []
    },
    "gpuClass": "standard",
    "kernelspec": {
      "display_name": "Python 3",
      "language": "python",
      "name": "python3"
    },
    "language_info": {
      "name": "python",
      "version": "3.10.11"
    },
    "vscode": {
      "interpreter": {
        "hash": "32c23ec9c124fdbef417fa7c12f036622d7e14abb755fc2527a38410604ea1a4"
      }
    }
  },
  "nbformat": 4,
  "nbformat_minor": 0
}
