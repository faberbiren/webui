{
  "cells": [
    {
      "cell_type": "code",
      "execution_count": null,
      "metadata": {},
      "outputs": [],
      "source": [
        "#@markdown ## 구글드라이브 연동\n",
        "#@markdown **생성한 이미지를 구글드라이브에 자동저장하려면 체크해주세요**\n",
        "Google_Drive = False #@param {type:\"boolean\"}\n",
        "\n",
        "#@markdown -----\n",
        "#@markdown *아래는 설정할 필요 없어요*\n",
        "\n",
        "#@markdown **구글드라이브에 연결 폴더**\n",
        "Google_Drive_Dir = 'webui' #@param {type:\"string\"}\n",
        "\n",
        "#@markdown **폴더 설명** : 미리 만드셔도 되고 없으면 자동으로 생성해요\n",
        "#@markdown * webui/output : 생성된 이미지들이 저장되요\n",
        "#@markdown * webui/checkpoint : 모델(checkpoint)를 넣어주면 읽어올수 있어요\n",
        "#@markdown * webui/lora : 로라(LoRA)를 넣어주면 읽어올수 있어요\n",
        "#@markdown * webui/embedding : 임베딩(Textual Inversion)를 넣어주면 읽어올수 있어요\n",
        "#@markdown * webui/hyperwork : 하이퍼워크(Hyperworks)를 넣어주면 읽어올수 있어요\n",
        "#@markdown * webui/wildcards : 와일드카드(Wildcards)를 넣어주면 읽어올수 있어요\n",
        "\n",
        "#@markdown **초기모델(checkpoint) URL**\n",
        "Checkpoint_Url = 'https://civitai.com/api/download/models/94640?type=Model&format=SafeTensor&size=pruned&fp=fp16' #@param {type:\"string\"}\n",
        "#@markdown **초기모델 파일명**\n",
        "Checkpoint_Filename = 'majicMIX_realistic_v6.safetensors' #@param {type:\"string\"}\n",
        "\n",
        "Workspace = 'animatediff'\n",
        "\n",
        "if Google_Drive:\n",
        "  from google.colab import drive\n",
        "  drive.mount('/content/drive')\n",
        "\n",
        "!apt -y install -qq aria2\n",
        "!pip install xformers==0.0.20 triton==2.0.0 -U\n",
        "\n",
        "%cd /content\n",
        "!git clone https://github.com/ninjaneural/colabui /content/{Workspace}\n",
        "\n",
        "# 구글드라이브 연결\n",
        "!wget https://raw.githubusercontent.com/ninjaneural/webui/master/misc/link_google_drive.sh -O /content/link_google_drive.sh\n",
        "!bash /content/link_google_drive.sh {Workspace} {Google_Drive} {Google_Drive_Dir}\n",
        "\n",
        "%cd /content/{Workspace}\n",
        "!pip install -e .\n",
        "\n",
        "!python launch.py --share --xformers --no-half-vae --enable-insecure-extension-access --theme dark"
      ]
    },
    {
      "cell_type": "code",
      "execution_count": null,
      "metadata": {},
      "outputs": [],
      "source": [
        "!python launch.py --share --xformers --no-half-vae --enable-insecure-extension-access --theme dark"
      ]
    }
  ],
  "metadata": {
    "accelerator": "GPU",
    "colab": {
      "collapsed_sections": [],
      "private_outputs": true,
      "provenance": []
    },
    "gpuClass": "standard",
    "kernelspec": {
      "display_name": "Python 3",
      "language": "python",
      "name": "python3"
    },
    "language_info": {
      "name": "python",
      "version": "3.10.11"
    },
    "vscode": {
      "interpreter": {
        "hash": "32c23ec9c124fdbef417fa7c12f036622d7e14abb755fc2527a38410604ea1a4"
      }
    }
  },
  "nbformat": 4,
  "nbformat_minor": 0
}
